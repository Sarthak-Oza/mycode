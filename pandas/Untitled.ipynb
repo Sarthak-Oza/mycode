{
 "cells": [
  {
   "cell_type": "markdown",
   "id": "67027d40-d8d4-429a-9d16-438f98a0bf39",
   "metadata": {
    "tags": []
   },
   "source": [
    "# Pandas"
   ]
  },
  {
   "cell_type": "code",
   "execution_count": 2,
   "id": "07aafadf-90d0-4d49-9411-6a9a3bd6a874",
   "metadata": {
    "tags": []
   },
   "outputs": [],
   "source": [
    "import pandas as pd"
   ]
  },
  {
   "cell_type": "code",
   "execution_count": 3,
   "id": "62ceafc1-ceec-4dd5-9945-f003840b3247",
   "metadata": {
    "tags": []
   },
   "outputs": [],
   "source": [
    "excel_file = 'movies.xls'"
   ]
  },
  {
   "cell_type": "code",
   "execution_count": 4,
   "id": "706f14c3-1cc7-4dbd-aaef-af06de520eaa",
   "metadata": {
    "tags": []
   },
   "outputs": [],
   "source": [
    "movies = pd.read_excel(excel_file)"
   ]
  },
  {
   "cell_type": "code",
   "execution_count": 5,
   "id": "6c02d49a-db3a-413d-9b76-e7aa77a737ba",
   "metadata": {
    "tags": []
   },
   "outputs": [
    {
     "name": "stdout",
     "output_type": "stream",
     "text": [
      "                                               Title  Year  \\\n",
      "0  Intolerance: Love's Struggle Throughout the Ages   1916   \n",
      "1                    Over the Hill to the Poorhouse   1920   \n",
      "2                                    The Big Parade   1925   \n",
      "3                                        Metropolis   1927   \n",
      "4                                     Pandora's Box   1929   \n",
      "\n",
      "                Genres Language  Country Content Rating  Duration  \\\n",
      "0    Drama|History|War      NaN      USA      Not Rated       123   \n",
      "1          Crime|Drama      NaN      USA            NaN       110   \n",
      "2    Drama|Romance|War      NaN      USA      Not Rated       151   \n",
      "3         Drama|Sci-Fi   German  Germany      Not Rated       145   \n",
      "4  Crime|Drama|Romance   German  Germany      Not Rated       110   \n",
      "\n",
      "   Aspect Ratio     Budget  Gross Earnings  ... Facebook Likes - Actor 1  \\\n",
      "0          1.33   385907.0             NaN  ...                      436   \n",
      "1          1.33   100000.0       3000000.0  ...                        2   \n",
      "2          1.33   245000.0             NaN  ...                       81   \n",
      "3          1.33  6000000.0         26435.0  ...                      136   \n",
      "4          1.33        NaN          9950.0  ...                      426   \n",
      "\n",
      "  Facebook Likes - Actor 2 Facebook Likes - Actor 3  \\\n",
      "0                       22                      9.0   \n",
      "1                        2                      0.0   \n",
      "2                       12                      6.0   \n",
      "3                       23                     18.0   \n",
      "4                       20                      3.0   \n",
      "\n",
      "  Facebook Likes - cast Total  Facebook likes - Movie  Facenumber in posters  \\\n",
      "0                         481                     691                      1   \n",
      "1                           4                       0                      1   \n",
      "2                         108                     226                      0   \n",
      "3                         203                   12000                      1   \n",
      "4                         455                     926                      1   \n",
      "\n",
      "   User Votes  Reviews by Users  Reviews by Crtiics  IMDB Score  \n",
      "0       10718                88                69.0         8.0  \n",
      "1           5                 1                 1.0         4.8  \n",
      "2        4849                45                48.0         8.3  \n",
      "3      111841               413               260.0         8.3  \n",
      "4        7431                84                71.0         8.0  \n",
      "\n",
      "[5 rows x 25 columns]\n"
     ]
    }
   ],
   "source": [
    "print(movies.head())"
   ]
  },
  {
   "cell_type": "code",
   "execution_count": 6,
   "id": "596e9631-59b6-40f8-a633-e077ce3353a3",
   "metadata": {
    "tags": []
   },
   "outputs": [],
   "source": [
    " movies_sheet1 = pd.read_excel(excel_file, sheet_name=0, index_col=0)"
   ]
  },
  {
   "cell_type": "code",
   "execution_count": 7,
   "id": "7d25283f-d1ab-45e9-801a-653bb319e433",
   "metadata": {
    "tags": []
   },
   "outputs": [
    {
     "name": "stdout",
     "output_type": "stream",
     "text": [
      "                                                   Year               Genres  \\\n",
      "Title                                                                          \n",
      "Intolerance: Love's Struggle Throughout the Ages   1916    Drama|History|War   \n",
      "Over the Hill to the Poorhouse                     1920          Crime|Drama   \n",
      "The Big Parade                                     1925    Drama|Romance|War   \n",
      "Metropolis                                         1927         Drama|Sci-Fi   \n",
      "Pandora's Box                                      1929  Crime|Drama|Romance   \n",
      "\n",
      "                                                  Language  Country  \\\n",
      "Title                                                                 \n",
      "Intolerance: Love's Struggle Throughout the Ages       NaN      USA   \n",
      "Over the Hill to the Poorhouse                         NaN      USA   \n",
      "The Big Parade                                         NaN      USA   \n",
      "Metropolis                                          German  Germany   \n",
      "Pandora's Box                                       German  Germany   \n",
      "\n",
      "                                                  Content Rating  Duration  \\\n",
      "Title                                                                        \n",
      "Intolerance: Love's Struggle Throughout the Ages       Not Rated       123   \n",
      "Over the Hill to the Poorhouse                               NaN       110   \n",
      "The Big Parade                                         Not Rated       151   \n",
      "Metropolis                                             Not Rated       145   \n",
      "Pandora's Box                                          Not Rated       110   \n",
      "\n",
      "                                                   Aspect Ratio     Budget  \\\n",
      "Title                                                                        \n",
      "Intolerance: Love's Struggle Throughout the Ages           1.33   385907.0   \n",
      "Over the Hill to the Poorhouse                             1.33   100000.0   \n",
      "The Big Parade                                             1.33   245000.0   \n",
      "Metropolis                                                 1.33  6000000.0   \n",
      "Pandora's Box                                              1.33        NaN   \n",
      "\n",
      "                                                   Gross Earnings  \\\n",
      "Title                                                               \n",
      "Intolerance: Love's Struggle Throughout the Ages              NaN   \n",
      "Over the Hill to the Poorhouse                          3000000.0   \n",
      "The Big Parade                                                NaN   \n",
      "Metropolis                                                26435.0   \n",
      "Pandora's Box                                              9950.0   \n",
      "\n",
      "                                                              Director  ...  \\\n",
      "Title                                                                   ...   \n",
      "Intolerance: Love's Struggle Throughout the Ages         D.W. Griffith  ...   \n",
      "Over the Hill to the Poorhouse                       Harry F. Millarde  ...   \n",
      "The Big Parade                                              King Vidor  ...   \n",
      "Metropolis                                                  Fritz Lang  ...   \n",
      "Pandora's Box                                      Georg Wilhelm Pabst  ...   \n",
      "\n",
      "                                                  Facebook Likes - Actor 1  \\\n",
      "Title                                                                        \n",
      "Intolerance: Love's Struggle Throughout the Ages                       436   \n",
      "Over the Hill to the Poorhouse                                           2   \n",
      "The Big Parade                                                          81   \n",
      "Metropolis                                                             136   \n",
      "Pandora's Box                                                          426   \n",
      "\n",
      "                                                  Facebook Likes - Actor 2  \\\n",
      "Title                                                                        \n",
      "Intolerance: Love's Struggle Throughout the Ages                        22   \n",
      "Over the Hill to the Poorhouse                                           2   \n",
      "The Big Parade                                                          12   \n",
      "Metropolis                                                              23   \n",
      "Pandora's Box                                                           20   \n",
      "\n",
      "                                                  Facebook Likes - Actor 3  \\\n",
      "Title                                                                        \n",
      "Intolerance: Love's Struggle Throughout the Ages                       9.0   \n",
      "Over the Hill to the Poorhouse                                         0.0   \n",
      "The Big Parade                                                         6.0   \n",
      "Metropolis                                                            18.0   \n",
      "Pandora's Box                                                          3.0   \n",
      "\n",
      "                                                   Facebook Likes - cast Total  \\\n",
      "Title                                                                            \n",
      "Intolerance: Love's Struggle Throughout the Ages                           481   \n",
      "Over the Hill to the Poorhouse                                               4   \n",
      "The Big Parade                                                             108   \n",
      "Metropolis                                                                 203   \n",
      "Pandora's Box                                                              455   \n",
      "\n",
      "                                                   Facebook likes - Movie  \\\n",
      "Title                                                                       \n",
      "Intolerance: Love's Struggle Throughout the Ages                      691   \n",
      "Over the Hill to the Poorhouse                                          0   \n",
      "The Big Parade                                                        226   \n",
      "Metropolis                                                          12000   \n",
      "Pandora's Box                                                         926   \n",
      "\n",
      "                                                   Facenumber in posters  \\\n",
      "Title                                                                      \n",
      "Intolerance: Love's Struggle Throughout the Ages                       1   \n",
      "Over the Hill to the Poorhouse                                         1   \n",
      "The Big Parade                                                         0   \n",
      "Metropolis                                                             1   \n",
      "Pandora's Box                                                          1   \n",
      "\n",
      "                                                   User Votes  \\\n",
      "Title                                                           \n",
      "Intolerance: Love's Struggle Throughout the Ages        10718   \n",
      "Over the Hill to the Poorhouse                              5   \n",
      "The Big Parade                                           4849   \n",
      "Metropolis                                             111841   \n",
      "Pandora's Box                                            7431   \n",
      "\n",
      "                                                   Reviews by Users  \\\n",
      "Title                                                                 \n",
      "Intolerance: Love's Struggle Throughout the Ages                 88   \n",
      "Over the Hill to the Poorhouse                                    1   \n",
      "The Big Parade                                                   45   \n",
      "Metropolis                                                      413   \n",
      "Pandora's Box                                                    84   \n",
      "\n",
      "                                                   Reviews by Crtiics  \\\n",
      "Title                                                                   \n",
      "Intolerance: Love's Struggle Throughout the Ages                 69.0   \n",
      "Over the Hill to the Poorhouse                                    1.0   \n",
      "The Big Parade                                                   48.0   \n",
      "Metropolis                                                      260.0   \n",
      "Pandora's Box                                                    71.0   \n",
      "\n",
      "                                                   IMDB Score  \n",
      "Title                                                          \n",
      "Intolerance: Love's Struggle Throughout the Ages          8.0  \n",
      "Over the Hill to the Poorhouse                            4.8  \n",
      "The Big Parade                                            8.3  \n",
      "Metropolis                                                8.3  \n",
      "Pandora's Box                                             8.0  \n",
      "\n",
      "[5 rows x 24 columns]\n"
     ]
    }
   ],
   "source": [
    "print(movies_sheet1.head())"
   ]
  },
  {
   "cell_type": "code",
   "execution_count": 8,
   "id": "d307fdb1-847a-4959-b5f3-30dfb5b3e0c2",
   "metadata": {
    "tags": []
   },
   "outputs": [],
   "source": [
    "movies_sheet1.head(5).to_excel(\"5movies.xlsx\")"
   ]
  },
  {
   "cell_type": "code",
   "execution_count": 9,
   "id": "af5ba319-734e-48bb-a4ae-004f77212843",
   "metadata": {
    "tags": []
   },
   "outputs": [],
   "source": [
    "movies_sheet1.head(5).to_json(\"5movies.json\")"
   ]
  },
  {
   "cell_type": "code",
   "execution_count": 10,
   "id": "6ef75cdd-19cc-442f-8fde-532a46fdfcc8",
   "metadata": {
    "tags": []
   },
   "outputs": [],
   "source": [
    "movies_sheet1.head(5).to_csv(\"5movies.csv\")"
   ]
  },
  {
   "cell_type": "code",
   "execution_count": 12,
   "id": "494f2d33-1def-4ec1-86d9-ab28b0b1aee1",
   "metadata": {
    "tags": []
   },
   "outputs": [],
   "source": [
    "import matplotlib\n",
    "matplotlib.use('Agg')\n",
    "\n",
    "# create some graphs\n",
    "import matplotlib.pyplot as plt"
   ]
  },
  {
   "cell_type": "code",
   "execution_count": 13,
   "id": "d5b2431f-970d-47a0-89e4-3aa8a3ccaefd",
   "metadata": {
    "tags": []
   },
   "outputs": [
    {
     "name": "stdout",
     "output_type": "stream",
     "text": [
      "                                                   Year               Genres  \\\n",
      "Title                                                                          \n",
      "Intolerance: Love's Struggle Throughout the Ages   1916    Drama|History|War   \n",
      "Over the Hill to the Poorhouse                     1920          Crime|Drama   \n",
      "The Big Parade                                     1925    Drama|Romance|War   \n",
      "Metropolis                                         1927         Drama|Sci-Fi   \n",
      "Pandora's Box                                      1929  Crime|Drama|Romance   \n",
      "\n",
      "                                                  Language  Country  \\\n",
      "Title                                                                 \n",
      "Intolerance: Love's Struggle Throughout the Ages       NaN      USA   \n",
      "Over the Hill to the Poorhouse                         NaN      USA   \n",
      "The Big Parade                                         NaN      USA   \n",
      "Metropolis                                          German  Germany   \n",
      "Pandora's Box                                       German  Germany   \n",
      "\n",
      "                                                  Content Rating  Duration  \\\n",
      "Title                                                                        \n",
      "Intolerance: Love's Struggle Throughout the Ages       Not Rated       123   \n",
      "Over the Hill to the Poorhouse                               NaN       110   \n",
      "The Big Parade                                         Not Rated       151   \n",
      "Metropolis                                             Not Rated       145   \n",
      "Pandora's Box                                          Not Rated       110   \n",
      "\n",
      "                                                   Aspect Ratio     Budget  \\\n",
      "Title                                                                        \n",
      "Intolerance: Love's Struggle Throughout the Ages           1.33   385907.0   \n",
      "Over the Hill to the Poorhouse                             1.33   100000.0   \n",
      "The Big Parade                                             1.33   245000.0   \n",
      "Metropolis                                                 1.33  6000000.0   \n",
      "Pandora's Box                                              1.33        NaN   \n",
      "\n",
      "                                                   Gross Earnings  \\\n",
      "Title                                                               \n",
      "Intolerance: Love's Struggle Throughout the Ages              NaN   \n",
      "Over the Hill to the Poorhouse                          3000000.0   \n",
      "The Big Parade                                                NaN   \n",
      "Metropolis                                                26435.0   \n",
      "Pandora's Box                                              9950.0   \n",
      "\n",
      "                                                              Director  ...  \\\n",
      "Title                                                                   ...   \n",
      "Intolerance: Love's Struggle Throughout the Ages         D.W. Griffith  ...   \n",
      "Over the Hill to the Poorhouse                       Harry F. Millarde  ...   \n",
      "The Big Parade                                              King Vidor  ...   \n",
      "Metropolis                                                  Fritz Lang  ...   \n",
      "Pandora's Box                                      Georg Wilhelm Pabst  ...   \n",
      "\n",
      "                                                  Facebook Likes - Actor 1  \\\n",
      "Title                                                                        \n",
      "Intolerance: Love's Struggle Throughout the Ages                       436   \n",
      "Over the Hill to the Poorhouse                                           2   \n",
      "The Big Parade                                                          81   \n",
      "Metropolis                                                             136   \n",
      "Pandora's Box                                                          426   \n",
      "\n",
      "                                                  Facebook Likes - Actor 2  \\\n",
      "Title                                                                        \n",
      "Intolerance: Love's Struggle Throughout the Ages                        22   \n",
      "Over the Hill to the Poorhouse                                           2   \n",
      "The Big Parade                                                          12   \n",
      "Metropolis                                                              23   \n",
      "Pandora's Box                                                           20   \n",
      "\n",
      "                                                  Facebook Likes - Actor 3  \\\n",
      "Title                                                                        \n",
      "Intolerance: Love's Struggle Throughout the Ages                       9.0   \n",
      "Over the Hill to the Poorhouse                                         0.0   \n",
      "The Big Parade                                                         6.0   \n",
      "Metropolis                                                            18.0   \n",
      "Pandora's Box                                                          3.0   \n",
      "\n",
      "                                                   Facebook Likes - cast Total  \\\n",
      "Title                                                                            \n",
      "Intolerance: Love's Struggle Throughout the Ages                           481   \n",
      "Over the Hill to the Poorhouse                                               4   \n",
      "The Big Parade                                                             108   \n",
      "Metropolis                                                                 203   \n",
      "Pandora's Box                                                              455   \n",
      "\n",
      "                                                   Facebook likes - Movie  \\\n",
      "Title                                                                       \n",
      "Intolerance: Love's Struggle Throughout the Ages                      691   \n",
      "Over the Hill to the Poorhouse                                          0   \n",
      "The Big Parade                                                        226   \n",
      "Metropolis                                                          12000   \n",
      "Pandora's Box                                                         926   \n",
      "\n",
      "                                                   Facenumber in posters  \\\n",
      "Title                                                                      \n",
      "Intolerance: Love's Struggle Throughout the Ages                       1   \n",
      "Over the Hill to the Poorhouse                                         1   \n",
      "The Big Parade                                                         0   \n",
      "Metropolis                                                             1   \n",
      "Pandora's Box                                                          1   \n",
      "\n",
      "                                                   User Votes  \\\n",
      "Title                                                           \n",
      "Intolerance: Love's Struggle Throughout the Ages        10718   \n",
      "Over the Hill to the Poorhouse                              5   \n",
      "The Big Parade                                           4849   \n",
      "Metropolis                                             111841   \n",
      "Pandora's Box                                            7431   \n",
      "\n",
      "                                                   Reviews by Users  \\\n",
      "Title                                                                 \n",
      "Intolerance: Love's Struggle Throughout the Ages                 88   \n",
      "Over the Hill to the Poorhouse                                    1   \n",
      "The Big Parade                                                   45   \n",
      "Metropolis                                                      413   \n",
      "Pandora's Box                                                    84   \n",
      "\n",
      "                                                   Reviews by Crtiics  \\\n",
      "Title                                                                   \n",
      "Intolerance: Love's Struggle Throughout the Ages                 69.0   \n",
      "Over the Hill to the Poorhouse                                    1.0   \n",
      "The Big Parade                                                   48.0   \n",
      "Metropolis                                                      260.0   \n",
      "Pandora's Box                                                    71.0   \n",
      "\n",
      "                                                   IMDB Score  \n",
      "Title                                                          \n",
      "Intolerance: Love's Struggle Throughout the Ages          8.0  \n",
      "Over the Hill to the Poorhouse                            4.8  \n",
      "The Big Parade                                            8.3  \n",
      "Metropolis                                                8.3  \n",
      "Pandora's Box                                             8.0  \n",
      "\n",
      "[5 rows x 24 columns]\n"
     ]
    }
   ],
   "source": [
    "print(movies_sheet1.head())"
   ]
  },
  {
   "cell_type": "code",
   "execution_count": 16,
   "id": "7d84e4d4-c7ec-4b19-9058-383bb56750f7",
   "metadata": {
    "tags": []
   },
   "outputs": [
    {
     "name": "stdout",
     "output_type": "stream",
     "text": [
      "                                                   Year               Genres  \\\n",
      "Title                                                                          \n",
      "Intolerance: Love's Struggle Throughout the Ages   1916    Drama|History|War   \n",
      "Over the Hill to the Poorhouse                     1920          Crime|Drama   \n",
      "The Big Parade                                     1925    Drama|Romance|War   \n",
      "Metropolis                                         1927         Drama|Sci-Fi   \n",
      "Pandora's Box                                      1929  Crime|Drama|Romance   \n",
      "\n",
      "                                                  Language  Country  \\\n",
      "Title                                                                 \n",
      "Intolerance: Love's Struggle Throughout the Ages       NaN      USA   \n",
      "Over the Hill to the Poorhouse                         NaN      USA   \n",
      "The Big Parade                                         NaN      USA   \n",
      "Metropolis                                          German  Germany   \n",
      "Pandora's Box                                       German  Germany   \n",
      "\n",
      "                                                  Content Rating  Duration  \\\n",
      "Title                                                                        \n",
      "Intolerance: Love's Struggle Throughout the Ages       Not Rated       123   \n",
      "Over the Hill to the Poorhouse                               NaN       110   \n",
      "The Big Parade                                         Not Rated       151   \n",
      "Metropolis                                             Not Rated       145   \n",
      "Pandora's Box                                          Not Rated       110   \n",
      "\n",
      "                                                   Aspect Ratio     Budget  \\\n",
      "Title                                                                        \n",
      "Intolerance: Love's Struggle Throughout the Ages           1.33   385907.0   \n",
      "Over the Hill to the Poorhouse                             1.33   100000.0   \n",
      "The Big Parade                                             1.33   245000.0   \n",
      "Metropolis                                                 1.33  6000000.0   \n",
      "Pandora's Box                                              1.33        NaN   \n",
      "\n",
      "                                                   Gross Earnings  \\\n",
      "Title                                                               \n",
      "Intolerance: Love's Struggle Throughout the Ages              NaN   \n",
      "Over the Hill to the Poorhouse                          3000000.0   \n",
      "The Big Parade                                                NaN   \n",
      "Metropolis                                                26435.0   \n",
      "Pandora's Box                                              9950.0   \n",
      "\n",
      "                                                              Director  ...  \\\n",
      "Title                                                                   ...   \n",
      "Intolerance: Love's Struggle Throughout the Ages         D.W. Griffith  ...   \n",
      "Over the Hill to the Poorhouse                       Harry F. Millarde  ...   \n",
      "The Big Parade                                              King Vidor  ...   \n",
      "Metropolis                                                  Fritz Lang  ...   \n",
      "Pandora's Box                                      Georg Wilhelm Pabst  ...   \n",
      "\n",
      "                                                  Facebook Likes - Actor 1  \\\n",
      "Title                                                                        \n",
      "Intolerance: Love's Struggle Throughout the Ages                       436   \n",
      "Over the Hill to the Poorhouse                                           2   \n",
      "The Big Parade                                                          81   \n",
      "Metropolis                                                             136   \n",
      "Pandora's Box                                                          426   \n",
      "\n",
      "                                                  Facebook Likes - Actor 2  \\\n",
      "Title                                                                        \n",
      "Intolerance: Love's Struggle Throughout the Ages                        22   \n",
      "Over the Hill to the Poorhouse                                           2   \n",
      "The Big Parade                                                          12   \n",
      "Metropolis                                                              23   \n",
      "Pandora's Box                                                           20   \n",
      "\n",
      "                                                  Facebook Likes - Actor 3  \\\n",
      "Title                                                                        \n",
      "Intolerance: Love's Struggle Throughout the Ages                       9.0   \n",
      "Over the Hill to the Poorhouse                                         0.0   \n",
      "The Big Parade                                                         6.0   \n",
      "Metropolis                                                            18.0   \n",
      "Pandora's Box                                                          3.0   \n",
      "\n",
      "                                                   Facebook Likes - cast Total  \\\n",
      "Title                                                                            \n",
      "Intolerance: Love's Struggle Throughout the Ages                           481   \n",
      "Over the Hill to the Poorhouse                                               4   \n",
      "The Big Parade                                                             108   \n",
      "Metropolis                                                                 203   \n",
      "Pandora's Box                                                              455   \n",
      "\n",
      "                                                   Facebook likes - Movie  \\\n",
      "Title                                                                       \n",
      "Intolerance: Love's Struggle Throughout the Ages                      691   \n",
      "Over the Hill to the Poorhouse                                          0   \n",
      "The Big Parade                                                        226   \n",
      "Metropolis                                                          12000   \n",
      "Pandora's Box                                                         926   \n",
      "\n",
      "                                                   Facenumber in posters  \\\n",
      "Title                                                                      \n",
      "Intolerance: Love's Struggle Throughout the Ages                       1   \n",
      "Over the Hill to the Poorhouse                                         1   \n",
      "The Big Parade                                                         0   \n",
      "Metropolis                                                             1   \n",
      "Pandora's Box                                                          1   \n",
      "\n",
      "                                                   User Votes  \\\n",
      "Title                                                           \n",
      "Intolerance: Love's Struggle Throughout the Ages        10718   \n",
      "Over the Hill to the Poorhouse                              5   \n",
      "The Big Parade                                           4849   \n",
      "Metropolis                                             111841   \n",
      "Pandora's Box                                            7431   \n",
      "\n",
      "                                                   Reviews by Users  \\\n",
      "Title                                                                 \n",
      "Intolerance: Love's Struggle Throughout the Ages                 88   \n",
      "Over the Hill to the Poorhouse                                    1   \n",
      "The Big Parade                                                   45   \n",
      "Metropolis                                                      413   \n",
      "Pandora's Box                                                    84   \n",
      "\n",
      "                                                   Reviews by Crtiics  \\\n",
      "Title                                                                   \n",
      "Intolerance: Love's Struggle Throughout the Ages                 69.0   \n",
      "Over the Hill to the Poorhouse                                    1.0   \n",
      "The Big Parade                                                   48.0   \n",
      "Metropolis                                                      260.0   \n",
      "Pandora's Box                                                    71.0   \n",
      "\n",
      "                                                   IMDB Score  \n",
      "Title                                                          \n",
      "Intolerance: Love's Struggle Throughout the Ages          8.0  \n",
      "Over the Hill to the Poorhouse                            4.8  \n",
      "The Big Parade                                            8.3  \n",
      "Metropolis                                                8.3  \n",
      "Pandora's Box                                             8.0  \n",
      "\n",
      "[5 rows x 24 columns]\n",
      "                        Year                   Genres Language Country  \\\n",
      "Title                                                                    \n",
      "102 Dalmatians          2000  Adventure|Comedy|Family  English     USA   \n",
      "28 Days                 2000             Comedy|Drama  English     USA   \n",
      "3 Strikes               2000                   Comedy  English     USA   \n",
      "Aberdeen                2000                    Drama  English      UK   \n",
      "All the Pretty Horses   2000    Drama|Romance|Western  English     USA   \n",
      "\n",
      "                       Content Rating  Duration  Aspect Ratio      Budget  \\\n",
      "Title                                                                       \n",
      "102 Dalmatians                      G     100.0          1.85  85000000.0   \n",
      "28 Days                         PG-13     103.0          1.37  43000000.0   \n",
      "3 Strikes                           R      82.0          1.85   6000000.0   \n",
      "Aberdeen                          NaN     106.0          1.85   6500000.0   \n",
      "All the Pretty Horses           PG-13     220.0          2.35  57000000.0   \n",
      "\n",
      "                        Gross Earnings            Director  ...  \\\n",
      "Title                                                       ...   \n",
      "102 Dalmatians              66941559.0          Kevin Lima  ...   \n",
      "28 Days                     37035515.0        Betty Thomas  ...   \n",
      "3 Strikes                    9821335.0             DJ Pooh  ...   \n",
      "Aberdeen                       64148.0  Hans Petter Moland  ...   \n",
      "All the Pretty Horses       15527125.0  Billy Bob Thornton  ...   \n",
      "\n",
      "                       Facebook Likes - Actor 1 Facebook Likes - Actor 2  \\\n",
      "Title                                                                      \n",
      "102 Dalmatians                           2000.0                    795.0   \n",
      "28 Days                                 12000.0                  10000.0   \n",
      "3 Strikes                                 939.0                    706.0   \n",
      "Aberdeen                                  844.0                      2.0   \n",
      "All the Pretty Horses                   13000.0                    861.0   \n",
      "\n",
      "                       Facebook Likes - Actor 3  Facebook Likes - cast Total  \\\n",
      "Title                                                                          \n",
      "102 Dalmatians                            439.0                         4182   \n",
      "28 Days                                   664.0                        23864   \n",
      "3 Strikes                                 585.0                         3354   \n",
      "Aberdeen                                    0.0                          846   \n",
      "All the Pretty Horses                     820.0                        15006   \n",
      "\n",
      "                        Facebook likes - Movie  Facenumber in posters  \\\n",
      "Title                                                                   \n",
      "102 Dalmatians                             372                      1   \n",
      "28 Days                                      0                      1   \n",
      "3 Strikes                                  118                      1   \n",
      "Aberdeen                                   260                      0   \n",
      "All the Pretty Horses                      652                      2   \n",
      "\n",
      "                        User Votes  Reviews by Users  Reviews by Crtiics  \\\n",
      "Title                                                                      \n",
      "102 Dalmatians               26413              77.0                84.0   \n",
      "28 Days                      34597             194.0               116.0   \n",
      "3 Strikes                     1415              10.0                22.0   \n",
      "Aberdeen                      2601              35.0                28.0   \n",
      "All the Pretty Horses        11388             183.0                85.0   \n",
      "\n",
      "                        IMDB Score  \n",
      "Title                               \n",
      "102 Dalmatians                 4.8  \n",
      "28 Days                        6.0  \n",
      "3 Strikes                      4.0  \n",
      "Aberdeen                       7.3  \n",
      "All the Pretty Horses          5.8  \n",
      "\n",
      "[5 rows x 24 columns]\n",
      "                                        Year  \\\n",
      "Title                                          \n",
      "127 Hours                             2010.0   \n",
      "3 Backyards                           2010.0   \n",
      "3                                     2010.0   \n",
      "8: The Mormon Proposition             2010.0   \n",
      "A Turtle's Tale: Sammy's Adventures   2010.0   \n",
      "\n",
      "                                                                  Genres  \\\n",
      "Title                                                                      \n",
      "127 Hours                             Adventure|Biography|Drama|Thriller   \n",
      "3 Backyards                                                        Drama   \n",
      "3                                                   Comedy|Drama|Romance   \n",
      "8: The Mormon Proposition                                    Documentary   \n",
      "A Turtle's Tale: Sammy's Adventures           Adventure|Animation|Family   \n",
      "\n",
      "                                     Language  Country Content Rating  \\\n",
      "Title                                                                   \n",
      "127 Hours                             English      USA              R   \n",
      "3 Backyards                           English      USA              R   \n",
      "3                                      German  Germany        Unrated   \n",
      "8: The Mormon Proposition             English      USA              R   \n",
      "A Turtle's Tale: Sammy's Adventures   English   France             PG   \n",
      "\n",
      "                                      Duration  Aspect Ratio      Budget  \\\n",
      "Title                                                                      \n",
      "127 Hours                                 94.0          1.85  18000000.0   \n",
      "3 Backyards                               88.0           NaN    300000.0   \n",
      "3                                        119.0          2.35         NaN   \n",
      "8: The Mormon Proposition                 80.0          1.78   2500000.0   \n",
      "A Turtle's Tale: Sammy's Adventures       88.0          2.35         NaN   \n",
      "\n",
      "                                      Gross Earnings         Director  ...  \\\n",
      "Title                                                                  ...   \n",
      "127 Hours                                 18329466.0      Danny Boyle  ...   \n",
      "3 Backyards                                      NaN  Eric Mendelsohn  ...   \n",
      "3                                            59774.0       Tom Tykwer  ...   \n",
      "8: The Mormon Proposition                    99851.0       Reed Cowan  ...   \n",
      "A Turtle's Tale: Sammy's Adventures              NaN      Ben Stassen  ...   \n",
      "\n",
      "                                     Facebook Likes - Actor 1  \\\n",
      "Title                                                           \n",
      "127 Hours                                             11000.0   \n",
      "3 Backyards                                             795.0   \n",
      "3                                                        24.0   \n",
      "8: The Mormon Proposition                               191.0   \n",
      "A Turtle's Tale: Sammy's Adventures                     783.0   \n",
      "\n",
      "                                     Facebook Likes - Actor 2  \\\n",
      "Title                                                           \n",
      "127 Hours                                               642.0   \n",
      "3 Backyards                                             659.0   \n",
      "3                                                        20.0   \n",
      "8: The Mormon Proposition                                12.0   \n",
      "A Turtle's Tale: Sammy's Adventures                     749.0   \n",
      "\n",
      "                                     Facebook Likes - Actor 3  \\\n",
      "Title                                                           \n",
      "127 Hours                                               223.0   \n",
      "3 Backyards                                             301.0   \n",
      "3                                                         9.0   \n",
      "8: The Mormon Proposition                                 5.0   \n",
      "A Turtle's Tale: Sammy's Adventures                     602.0   \n",
      "\n",
      "                                      Facebook Likes - cast Total  \\\n",
      "Title                                                               \n",
      "127 Hours                                                   11984   \n",
      "3 Backyards                                                  1884   \n",
      "3                                                              69   \n",
      "8: The Mormon Proposition                                     210   \n",
      "A Turtle's Tale: Sammy's Adventures                          3874   \n",
      "\n",
      "                                      Facebook likes - Movie  \\\n",
      "Title                                                          \n",
      "127 Hours                                              63000   \n",
      "3 Backyards                                               92   \n",
      "3                                                       2000   \n",
      "8: The Mormon Proposition                                  0   \n",
      "A Turtle's Tale: Sammy's Adventures                        0   \n",
      "\n",
      "                                      Facenumber in posters  User Votes  \\\n",
      "Title                                                                     \n",
      "127 Hours                                               0.0      279179   \n",
      "3 Backyards                                             0.0         554   \n",
      "3                                                       0.0        4212   \n",
      "8: The Mormon Proposition                               0.0        1138   \n",
      "A Turtle's Tale: Sammy's Adventures                     2.0        5385   \n",
      "\n",
      "                                      Reviews by Users  Reviews by Crtiics  \\\n",
      "Title                                                                        \n",
      "127 Hours                                        440.0               450.0   \n",
      "3 Backyards                                       23.0                20.0   \n",
      "3                                                 18.0                76.0   \n",
      "8: The Mormon Proposition                         30.0                28.0   \n",
      "A Turtle's Tale: Sammy's Adventures               22.0                56.0   \n",
      "\n",
      "                                      IMDB Score  \n",
      "Title                                             \n",
      "127 Hours                                    7.6  \n",
      "3 Backyards                                  5.2  \n",
      "3                                            6.8  \n",
      "8: The Mormon Proposition                    7.1  \n",
      "A Turtle's Tale: Sammy's Adventures          6.1  \n",
      "\n",
      "[5 rows x 24 columns]\n"
     ]
    }
   ],
   "source": [
    "\n",
    "    # index (index=0)\n",
    "    movies_sheet1 = pd.read_excel(excel_file, sheet_name=0, index_col=0)\n",
    "    # DF has 5 rows and 24 columns (indexed by title)\n",
    "    print(movies_sheet1.head())\n",
    "\n",
    "    # grab the next 2 sheets as well\n",
    "    movies_sheet2 = pd.read_excel(excel_file, sheet_name=1, index_col=0)\n",
    "    # DF has 5 rows and 24 columns (indexed by title)\n",
    "    print(movies_sheet2.head())\n",
    "\n",
    "    movies_sheet3 = pd.read_excel(excel_file, sheet_name=2, index_col=0)\n",
    "    # DF has 5 rows and 24 columns (indexed by title)\n",
    "    print(movies_sheet3.head())\n",
    "\n",
    "    # combine all DFs into a single DF called movies\n",
    "    movies = pd.concat([movies_sheet1, movies_sheet2, movies_sheet3])"
   ]
  },
  {
   "cell_type": "code",
   "execution_count": 17,
   "id": "9995e5ce-92d7-42fd-8538-1131f75a0d13",
   "metadata": {
    "tags": []
   },
   "outputs": [
    {
     "name": "stdout",
     "output_type": "stream",
     "text": [
      "(5042, 24)\n"
     ]
    }
   ],
   "source": [
    "print(movies.shape)"
   ]
  },
  {
   "cell_type": "code",
   "execution_count": 18,
   "id": "03d59fde-f12e-4913-aa27-7db2347015c2",
   "metadata": {
    "tags": []
   },
   "outputs": [],
   "source": [
    "movies.drop_duplicates(inplace=True)"
   ]
  },
  {
   "cell_type": "code",
   "execution_count": 19,
   "id": "765c5df1-dc03-4ac1-8fba-247d5a7bff51",
   "metadata": {
    "tags": []
   },
   "outputs": [
    {
     "name": "stdout",
     "output_type": "stream",
     "text": [
      "(4997, 24)\n"
     ]
    }
   ],
   "source": [
    "print(movies.shape)"
   ]
  },
  {
   "cell_type": "code",
   "execution_count": 20,
   "id": "e212a5d7-eae6-4330-a94b-a21cffa47f06",
   "metadata": {
    "tags": []
   },
   "outputs": [],
   "source": [
    "sorted_by_gross = movies.sort_values([\"Gross Earnings\"], ascending=False)"
   ]
  },
  {
   "cell_type": "code",
   "execution_count": 21,
   "id": "7e58e796-8e2f-4442-9036-8f47648e028a",
   "metadata": {
    "tags": []
   },
   "outputs": [
    {
     "name": "stdout",
     "output_type": "stream",
     "text": [
      "                                              Year  \\\n",
      "Title                                                \n",
      "Avatar                                      2009.0   \n",
      "Titanic                                     1997.0   \n",
      "Jurassic World                              2015.0   \n",
      "The Avengers                                2012.0   \n",
      "The Dark Knight                             2008.0   \n",
      "Star Wars: Episode I - The Phantom Menace   1999.0   \n",
      "Star Wars: Episode IV - A New Hope          1977.0   \n",
      "Avengers: Age of Ultron                     2015.0   \n",
      "The Dark Knight Rises                       2012.0   \n",
      "Shrek 2                                     2004.0   \n",
      "\n",
      "                                                                                       Genres  \\\n",
      "Title                                                                                           \n",
      "Avatar                                                        Action|Adventure|Fantasy|Sci-Fi   \n",
      "Titanic                                                                         Drama|Romance   \n",
      "Jurassic World                                               Action|Adventure|Sci-Fi|Thriller   \n",
      "The Avengers                                                          Action|Adventure|Sci-Fi   \n",
      "The Dark Knight                                                   Action|Crime|Drama|Thriller   \n",
      "Star Wars: Episode I - The Phantom Menace                     Action|Adventure|Fantasy|Sci-Fi   \n",
      "Star Wars: Episode IV - A New Hope                            Action|Adventure|Fantasy|Sci-Fi   \n",
      "Avengers: Age of Ultron                                               Action|Adventure|Sci-Fi   \n",
      "The Dark Knight Rises                                                         Action|Thriller   \n",
      "Shrek 2                                     Adventure|Animation|Comedy|Family|Fantasy|Romance   \n",
      "\n",
      "                                           Language Country Content Rating  \\\n",
      "Title                                                                        \n",
      "Avatar                                      English     USA          PG-13   \n",
      "Titanic                                     English     USA          PG-13   \n",
      "Jurassic World                              English     USA          PG-13   \n",
      "The Avengers                                English     USA          PG-13   \n",
      "The Dark Knight                             English     USA          PG-13   \n",
      "Star Wars: Episode I - The Phantom Menace   English     USA             PG   \n",
      "Star Wars: Episode IV - A New Hope          English     USA             PG   \n",
      "Avengers: Age of Ultron                     English     USA          PG-13   \n",
      "The Dark Knight Rises                       English     USA          PG-13   \n",
      "Shrek 2                                     English     USA             PG   \n",
      "\n",
      "                                            Duration  Aspect Ratio  \\\n",
      "Title                                                                \n",
      "Avatar                                         178.0          1.78   \n",
      "Titanic                                        194.0          2.35   \n",
      "Jurassic World                                 124.0          2.00   \n",
      "The Avengers                                   173.0          1.85   \n",
      "The Dark Knight                                152.0          2.35   \n",
      "Star Wars: Episode I - The Phantom Menace      136.0          2.35   \n",
      "Star Wars: Episode IV - A New Hope             125.0          2.35   \n",
      "Avengers: Age of Ultron                        141.0          2.35   \n",
      "The Dark Knight Rises                          164.0          2.35   \n",
      "Shrek 2                                         93.0          1.85   \n",
      "\n",
      "                                                 Budget  Gross Earnings  \\\n",
      "Title                                                                     \n",
      "Avatar                                      237000000.0     760505847.0   \n",
      "Titanic                                     200000000.0     658672302.0   \n",
      "Jurassic World                              150000000.0     652177271.0   \n",
      "The Avengers                                220000000.0     623279547.0   \n",
      "The Dark Knight                             185000000.0     533316061.0   \n",
      "Star Wars: Episode I - The Phantom Menace   115000000.0     474544677.0   \n",
      "Star Wars: Episode IV - A New Hope           11000000.0     460935665.0   \n",
      "Avengers: Age of Ultron                     250000000.0     458991599.0   \n",
      "The Dark Knight Rises                       250000000.0     448130642.0   \n",
      "Shrek 2                                     150000000.0     436471036.0   \n",
      "\n",
      "                                                     Director  ...  \\\n",
      "Title                                                          ...   \n",
      "Avatar                                          James Cameron  ...   \n",
      "Titanic                                         James Cameron  ...   \n",
      "Jurassic World                                Colin Trevorrow  ...   \n",
      "The Avengers                                      Joss Whedon  ...   \n",
      "The Dark Knight                             Christopher Nolan  ...   \n",
      "Star Wars: Episode I - The Phantom Menace        George Lucas  ...   \n",
      "Star Wars: Episode IV - A New Hope               George Lucas  ...   \n",
      "Avengers: Age of Ultron                           Joss Whedon  ...   \n",
      "The Dark Knight Rises                       Christopher Nolan  ...   \n",
      "Shrek 2                                        Andrew Adamson  ...   \n",
      "\n",
      "                                           Facebook Likes - Actor 1  \\\n",
      "Title                                                                 \n",
      "Avatar                                                       1000.0   \n",
      "Titanic                                                     29000.0   \n",
      "Jurassic World                                               3000.0   \n",
      "The Avengers                                                26000.0   \n",
      "The Dark Knight                                             23000.0   \n",
      "Star Wars: Episode I - The Phantom Menace                   20000.0   \n",
      "Star Wars: Episode IV - A New Hope                          11000.0   \n",
      "Avengers: Age of Ultron                                     26000.0   \n",
      "The Dark Knight Rises                                       27000.0   \n",
      "Shrek 2                                                       692.0   \n",
      "\n",
      "                                           Facebook Likes - Actor 2  \\\n",
      "Title                                                                 \n",
      "Avatar                                                        936.0   \n",
      "Titanic                                                     14000.0   \n",
      "Jurassic World                                               2000.0   \n",
      "The Avengers                                                21000.0   \n",
      "The Dark Knight                                             13000.0   \n",
      "Star Wars: Episode I - The Phantom Menace                   14000.0   \n",
      "Star Wars: Episode IV - A New Hope                           1000.0   \n",
      "Avengers: Age of Ultron                                     21000.0   \n",
      "The Dark Knight Rises                                       23000.0   \n",
      "Shrek 2                                                       309.0   \n",
      "\n",
      "                                           Facebook Likes - Actor 3  \\\n",
      "Title                                                                 \n",
      "Avatar                                                        855.0   \n",
      "Titanic                                                       794.0   \n",
      "Jurassic World                                               1000.0   \n",
      "The Avengers                                                19000.0   \n",
      "The Dark Knight                                             11000.0   \n",
      "Star Wars: Episode I - The Phantom Menace                    1000.0   \n",
      "Star Wars: Episode IV - A New Hope                            504.0   \n",
      "Avengers: Age of Ultron                                     19000.0   \n",
      "The Dark Knight Rises                                       23000.0   \n",
      "Shrek 2                                                        48.0   \n",
      "\n",
      "                                            Facebook Likes - cast Total  \\\n",
      "Title                                                                     \n",
      "Avatar                                                             4834   \n",
      "Titanic                                                           45223   \n",
      "Jurassic World                                                     8458   \n",
      "The Avengers                                                      87697   \n",
      "The Dark Knight                                                   57802   \n",
      "Star Wars: Episode I - The Phantom Menace                         37723   \n",
      "Star Wars: Episode IV - A New Hope                                13485   \n",
      "Avengers: Age of Ultron                                           92000   \n",
      "The Dark Knight Rises                                            106759   \n",
      "Shrek 2                                                            1148   \n",
      "\n",
      "                                            Facebook likes - Movie  \\\n",
      "Title                                                                \n",
      "Avatar                                                       33000   \n",
      "Titanic                                                      26000   \n",
      "Jurassic World                                              150000   \n",
      "The Avengers                                                123000   \n",
      "The Dark Knight                                              37000   \n",
      "Star Wars: Episode I - The Phantom Menace                    13000   \n",
      "Star Wars: Episode IV - A New Hope                           33000   \n",
      "Avengers: Age of Ultron                                     118000   \n",
      "The Dark Knight Rises                                       164000   \n",
      "Shrek 2                                                          0   \n",
      "\n",
      "                                            Facenumber in posters  User Votes  \\\n",
      "Title                                                                           \n",
      "Avatar                                                        0.0      886204   \n",
      "Titanic                                                       0.0      793059   \n",
      "Jurassic World                                                0.0      418214   \n",
      "The Avengers                                                  3.0      995415   \n",
      "The Dark Knight                                               0.0     1676169   \n",
      "Star Wars: Episode I - The Phantom Menace                     1.0      534658   \n",
      "Star Wars: Episode IV - A New Hope                            1.0      911097   \n",
      "Avengers: Age of Ultron                                       4.0      462669   \n",
      "The Dark Knight Rises                                         0.0     1144337   \n",
      "Shrek 2                                                       1.0      314630   \n",
      "\n",
      "                                            Reviews by Users  \\\n",
      "Title                                                          \n",
      "Avatar                                                3054.0   \n",
      "Titanic                                               2528.0   \n",
      "Jurassic World                                        1290.0   \n",
      "The Avengers                                          1722.0   \n",
      "The Dark Knight                                       4667.0   \n",
      "Star Wars: Episode I - The Phantom Menace             3597.0   \n",
      "Star Wars: Episode IV - A New Hope                    1470.0   \n",
      "Avengers: Age of Ultron                               1117.0   \n",
      "The Dark Knight Rises                                 2701.0   \n",
      "Shrek 2                                                483.0   \n",
      "\n",
      "                                            Reviews by Crtiics  IMDB Score  \n",
      "Title                                                                       \n",
      "Avatar                                                   723.0         7.9  \n",
      "Titanic                                                  315.0         7.7  \n",
      "Jurassic World                                           644.0         7.0  \n",
      "The Avengers                                             703.0         8.1  \n",
      "The Dark Knight                                          645.0         9.0  \n",
      "Star Wars: Episode I - The Phantom Menace                320.0         6.5  \n",
      "Star Wars: Episode IV - A New Hope                       282.0         8.7  \n",
      "Avengers: Age of Ultron                                  635.0         7.5  \n",
      "The Dark Knight Rises                                    813.0         8.5  \n",
      "Shrek 2                                                  205.0         7.2  \n",
      "\n",
      "[10 rows x 24 columns]\n"
     ]
    }
   ],
   "source": [
    "print(sorted_by_gross.head(10))"
   ]
  },
  {
   "cell_type": "code",
   "execution_count": 22,
   "id": "5edf951c-722b-487d-af33-ff2338180222",
   "metadata": {
    "tags": []
   },
   "outputs": [
    {
     "data": {
      "text/plain": [
       "<Axes: ylabel='Title'>"
      ]
     },
     "execution_count": 22,
     "metadata": {},
     "output_type": "execute_result"
    }
   ],
   "source": [
    "sorted_by_gross['Gross Earnings'].head(10).plot(kind=\"barh\")"
   ]
  },
  {
   "cell_type": "code",
   "execution_count": 23,
   "id": "4ed1c276-f11d-4850-8f73-e8aa9e729a3d",
   "metadata": {
    "tags": []
   },
   "outputs": [],
   "source": [
    "plt.savefig(\"/home/student/static/stackedbar.png\", bbox_inches='tight')"
   ]
  },
  {
   "cell_type": "code",
   "execution_count": 24,
   "id": "bbd583d5-6fb2-4148-9e82-988146549a29",
   "metadata": {
    "tags": []
   },
   "outputs": [],
   "source": [
    "ciscocsv = pd.read_csv(\"ciscodata.csv\")"
   ]
  },
  {
   "cell_type": "code",
   "execution_count": 26,
   "id": "1ef962ae-31f3-4e0b-88a0-2ab051b6b3c4",
   "metadata": {
    "tags": []
   },
   "outputs": [],
   "source": [
    "ciscojson = pd.read_json(\"ciscodata2.json\")"
   ]
  },
  {
   "cell_type": "code",
   "execution_count": 27,
   "id": "20d6a3da-720c-4962-845f-5000362ffa86",
   "metadata": {
    "tags": []
   },
   "outputs": [
    {
     "name": "stdout",
     "output_type": "stream",
     "text": [
      "       device      serial             ip     region firmware\n",
      "0    ciscoios  C8293-928F   192.168.70.1  northeast    v14.6\n",
      "1  ciscoiosxr  A7392-123D       10.0.0.1  northeast     v1.2\n",
      "2  ciscoiosxe  C8233-593A     172.6.2.11  southwest     v3.2\n",
      "3   cisconxos  B1122-938A     172.4.2.11      south     v1.2\n",
      "4    ciscoios  C2832-23dB  192.168.102.1       west    v14.6\n"
     ]
    }
   ],
   "source": [
    "print(ciscocsv.head())"
   ]
  },
  {
   "cell_type": "code",
   "execution_count": 28,
   "id": "06e5e348-8305-4c5e-b8a5-d0e006c6479b",
   "metadata": {
    "tags": []
   },
   "outputs": [
    {
     "name": "stdout",
     "output_type": "stream",
     "text": [
      "       device      serial         ip region firmware\n",
      "0  ciscoiosxr  C9878-323F   10.3.3.1   west     v1.2\n",
      "1  ciscoiosxr  C7673-664E  10.66.7.1  north     v1.2\n"
     ]
    }
   ],
   "source": [
    "print(ciscojson.head())"
   ]
  },
  {
   "cell_type": "code",
   "execution_count": 29,
   "id": "d61e426a-0030-416b-af08-6bfc3566e35d",
   "metadata": {
    "tags": []
   },
   "outputs": [],
   "source": [
    "ciscodf = pd.concat([ciscocsv, ciscojson])"
   ]
  },
  {
   "cell_type": "code",
   "execution_count": 30,
   "id": "3f7a86d3-caa5-4aac-9727-da595deea202",
   "metadata": {
    "tags": []
   },
   "outputs": [
    {
     "name": "stdout",
     "output_type": "stream",
     "text": [
      "       device      serial             ip     region firmware\n",
      "0    ciscoios  C8293-928F   192.168.70.1  northeast    v14.6\n",
      "1  ciscoiosxr  A7392-123D       10.0.0.1  northeast     v1.2\n",
      "2  ciscoiosxe  C8233-593A     172.6.2.11  southwest     v3.2\n",
      "3   cisconxos  B1122-938A     172.4.2.11      south     v1.2\n",
      "4    ciscoios  C2832-23dB  192.168.102.1       west    v14.6\n",
      "0  ciscoiosxr  C9878-323F       10.3.3.1       west     v1.2\n",
      "1  ciscoiosxr  C7673-664E      10.66.7.1      north     v1.2\n"
     ]
    }
   ],
   "source": [
    "print(ciscodf)"
   ]
  },
  {
   "cell_type": "code",
   "execution_count": 31,
   "id": "925493af-8c7a-46b7-8c05-3f727e4ae818",
   "metadata": {
    "tags": []
   },
   "outputs": [
    {
     "name": "stdout",
     "output_type": "stream",
     "text": [
      "       device      serial             ip     region firmware\n",
      "0    ciscoios  C8293-928F   192.168.70.1  northeast    v14.6\n",
      "1  ciscoiosxr  A7392-123D       10.0.0.1  northeast     v1.2\n",
      "2  ciscoiosxe  C8233-593A     172.6.2.11  southwest     v3.2\n",
      "3   cisconxos  B1122-938A     172.4.2.11      south     v1.2\n",
      "4    ciscoios  C2832-23dB  192.168.102.1       west    v14.6\n",
      "5  ciscoiosxr  C9878-323F       10.3.3.1       west     v1.2\n",
      "6  ciscoiosxr  C7673-664E      10.66.7.1      north     v1.2\n"
     ]
    }
   ],
   "source": [
    "ciscocsv = pd.read_csv(\"ciscodata.csv\")\n",
    "ciscojson = pd.read_json(\"ciscodata2.json\")\n",
    "ciscodf = pd.concat([ciscocsv, ciscojson], ignore_index=True, sort=False)\n",
    "print(ciscodf)"
   ]
  },
  {
   "cell_type": "code",
   "execution_count": 32,
   "id": "b0025c03-9d1e-4568-81f4-baebf4e3873a",
   "metadata": {
    "tags": []
   },
   "outputs": [],
   "source": [
    "ciscodf.to_json(\"combined_ciscodata.json\")"
   ]
  },
  {
   "cell_type": "code",
   "execution_count": 33,
   "id": "40c9aef5-cbc5-40f4-a3e5-f692847b5c72",
   "metadata": {
    "tags": []
   },
   "outputs": [],
   "source": [
    "ciscodf.to_csv(\"combined_ciscodata.csv\")"
   ]
  },
  {
   "cell_type": "code",
   "execution_count": 34,
   "id": "9d6a5822-809d-4557-a45f-6b9da6013cf1",
   "metadata": {
    "tags": []
   },
   "outputs": [],
   "source": [
    "ciscodf.to_excel(\"combined_ciscodata.xlsx\")"
   ]
  },
  {
   "cell_type": "code",
   "execution_count": 36,
   "id": "23f3db94-2e4b-436e-9ca2-51eaf7adf818",
   "metadata": {
    "tags": []
   },
   "outputs": [
    {
     "name": "stdout",
     "output_type": "stream",
     "text": [
      "{'device': {0: 'ciscoios', 1: 'ciscoiosxr', 2: 'ciscoiosxe', 3: 'cisconxos', 4: 'ciscoios', 5: 'ciscoiosxr', 6: 'ciscoiosxr'}, 'serial': {0: 'C8293-928F', 1: 'A7392-123D', 2: 'C8233-593A', 3: 'B1122-938A', 4: 'C2832-23dB', 5: 'C9878-323F', 6: 'C7673-664E'}, 'ip': {0: '192.168.70.1', 1: '10.0.0.1', 2: '172.6.2.11', 3: '172.4.2.11', 4: '192.168.102.1', 5: '10.3.3.1', 6: '10.66.7.1'}, 'region': {0: 'northeast', 1: 'northeast', 2: 'southwest', 3: 'south', 4: 'west', 5: 'west', 6: 'north'}, 'firmware': {0: 'v14.6', 1: 'v1.2', 2: 'v3.2', 3: 'v1.2', 4: 'v14.6', 5: 'v1.2', 6: 'v1.2'}}\n"
     ]
    }
   ],
   "source": [
    "x = ciscodf.to_dict()\n",
    "print(x)"
   ]
  },
  {
   "cell_type": "code",
   "execution_count": 37,
   "id": "ad1381fe-3a67-4bd8-a6c7-5dc744e4cee1",
   "metadata": {
    "tags": []
   },
   "outputs": [],
   "source": [
    " opsd_daily = pd.read_csv('netTraffic.csv')"
   ]
  },
  {
   "cell_type": "code",
   "execution_count": 38,
   "id": "33d845bb-2ffa-487c-baca-bad019b349fa",
   "metadata": {
    "tags": []
   },
   "outputs": [
    {
     "name": "stdout",
     "output_type": "stream",
     "text": [
      "RangeIndex(start=0, stop=4383, step=1)\n"
     ]
    }
   ],
   "source": [
    "print(opsd_daily.index)"
   ]
  },
  {
   "cell_type": "code",
   "execution_count": 40,
   "id": "c986484f-ca8a-487d-a242-d64eff2c3bc1",
   "metadata": {
    "tags": []
   },
   "outputs": [],
   "source": [
    "superdf = pd.read_csv(\"superbirthday.csv\")"
   ]
  },
  {
   "cell_type": "code",
   "execution_count": 41,
   "id": "1c5969c4-8a90-4097-8b4f-d4cbd4bc3b59",
   "metadata": {
    "tags": []
   },
   "outputs": [
    {
     "name": "stdout",
     "output_type": "stream",
     "text": [
      "Column names are name, heroname, birthday month\n"
     ]
    }
   ],
   "source": [
    "print(f\"Column names are {', '.join(superdf)}\")"
   ]
  },
  {
   "cell_type": "code",
   "execution_count": 42,
   "id": "d4582c0e-617a-4240-84ea-ee3736caa88a",
   "metadata": {
    "tags": []
   },
   "outputs": [
    {
     "name": "stdout",
     "output_type": "stream",
     "text": [
      "[{'name': 'Selina Kyle', 'heroname': 'Catwoman', 'birthday month': 'March'}, {'name': 'Alfred Pennyworth', 'heroname': 'Butler', 'birthday month': 'April'}, {'name': 'Clark Kent', 'heroname': 'Superman', 'birthday month': 'June'}, {'name': 'Kara Zor-El', 'heroname': 'Supergirl', 'birthday month': 'September'}, {'name': 'Alan Scott', 'heroname': 'Green Lantern', 'birthday month': 'October'}]\n"
     ]
    }
   ],
   "source": [
    "print(superdf.to_dict(orient='records'))"
   ]
  },
  {
   "cell_type": "code",
   "execution_count": 43,
   "id": "65fe5886-9d14-44ad-a930-29c2f17f6c06",
   "metadata": {
    "tags": []
   },
   "outputs": [],
   "source": [
    "import numpy as np\n",
    "import matplotlib\n",
    "matplotlib.use('Agg')\n",
    "\n",
    "import matplotlib.pyplot as plt"
   ]
  },
  {
   "cell_type": "code",
   "execution_count": null,
   "id": "2f5b783c-59a5-40b9-b6a0-ba347238660e",
   "metadata": {},
   "outputs": [],
   "source": []
  }
 ],
 "metadata": {
  "kernelspec": {
   "display_name": "Python 3 (ipykernel)",
   "language": "python",
   "name": "python3"
  },
  "language_info": {
   "codemirror_mode": {
    "name": "ipython",
    "version": 3
   },
   "file_extension": ".py",
   "mimetype": "text/x-python",
   "name": "python",
   "nbconvert_exporter": "python",
   "pygments_lexer": "ipython3",
   "version": "3.10.12"
  }
 },
 "nbformat": 4,
 "nbformat_minor": 5
}
